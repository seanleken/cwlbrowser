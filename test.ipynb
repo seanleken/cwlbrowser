{
 "cells": [
  {
   "cell_type": "code",
   "execution_count": 1,
   "metadata": {},
   "outputs": [
    {
     "name": "stdout",
     "output_type": "stream",
     "text": [
      "#!/usr/bin/env cwl-runner\n",
      "cwlVersion: v1.0\n",
      "class: Workflow\n",
      "\n",
      "label: \"Hello World\"\n",
      "doc: \"Outputs a message using echo\"\n",
      "\n",
      "inputs: []\n",
      "\n",
      "outputs:\n",
      "  response:\n",
      "    outputSource: step0/response\n",
      "    type: File\n",
      "\n",
      "steps:\n",
      "  step0:\n",
      "    run:\n",
      "      class: CommandLineTool\n",
      "      inputs:\n",
      "        message:\n",
      "          type: string\n",
      "          doc: \"The message to print\"\n",
      "          default: \"Hello World\"\n",
      "          inputBinding:\n",
      "            position: 1\n",
      "      baseCommand: echo\n",
      "      stdout: response.txt\n",
      "      outputs:\n",
      "        response:\n",
      "          type: stdout\n",
      "    in: []\n",
      "    out: [response]\n",
      "\n",
      "118\n",
      "https://raw.githubusercontent.com/common-workflow-language/workflows/master/workflows/hello/hello.cwl\n"
     ]
    }
   ],
   "source": [
    "import base64\n",
    "import requests\n",
    "url = \"https://api.github.com/repos/common-workflow-language/workflows/contents/workflows/hello/hello.cwl\"\n",
    "req = requests.get(url)\n",
    "if req.status_code != 200:\n",
    "    print(req.status_code)\n",
    "else:\n",
    "    req = req.json()  # the response is a JSON\n",
    "    # req is now a dict with keys: name, encoding, url, size ...\n",
    "    # and content. But it is encoded with base64.\n",
    "    \n",
    "    content = base64.b64decode(req['content'])\n",
    "    content = content.decode(\"utf-8\")\n",
    "    print (content)\n",
    "    print(content.find('inputs'))\n",
    "    #print (content)\n",
    "    \n",
    "    link = req['download_url']\n",
    "    \n",
    "    print (link)\n",
    "    \n",
    "\n",
    "    \n"
   ]
  },
  {
   "cell_type": "code",
   "execution_count": null,
   "metadata": {},
   "outputs": [],
   "source": []
  },
  {
   "cell_type": "code",
   "execution_count": null,
   "metadata": {},
   "outputs": [],
   "source": []
  }
 ],
 "metadata": {
  "kernelspec": {
   "display_name": "Python 3",
   "language": "python",
   "name": "python3"
  },
  "language_info": {
   "codemirror_mode": {
    "name": "ipython",
    "version": 3
   },
   "file_extension": ".py",
   "mimetype": "text/x-python",
   "name": "python",
   "nbconvert_exporter": "python",
   "pygments_lexer": "ipython3",
   "version": "3.7.0"
  }
 },
 "nbformat": 4,
 "nbformat_minor": 2
}
