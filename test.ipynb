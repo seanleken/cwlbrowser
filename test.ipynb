{
 "cells": [
  {
   "cell_type": "code",
   "execution_count": 2,
   "metadata": {},
   "outputs": [
    {
     "name": "stdout",
     "output_type": "stream",
     "text": [
      "cwlVersion: v1.0\n",
      "class: Workflow\n",
      "\n",
      "inputs:\n",
      "  sing_image: File\n",
      "  words: string\n",
      "  out_file: string\n",
      "\n",
      "\n",
      "outputs:\n",
      "  classout:\n",
      "    type: File\n",
      "    outputSource: compile/cow_pic\n",
      "\n",
      "steps:\n",
      "  file_make:\n",
      "    run: stdout.cwl\n",
      "    in:\n",
      "      message: words\n",
      "    out: [example_out]\n",
      "\n",
      "  compile:\n",
      "    run: cow_test.cwl\n",
      "    in:\n",
      "      image: sing_image\n",
      "      in_file: file_make/example_out\n",
      "      out_file: out_file\n",
      "    out: [cow_pic]\n"
     ]
    }
   ],
   "source": [
    "import base64\n",
    "import requests\n",
    "url = \"https://api.github.com/repos/TMCantwell/CWL_test/contents/cow_test_workflow.cwl\"\n",
    "req = requests.get(url)\n",
    "if req.status_code != 200:\n",
    "    print(req.status_code)\n",
    "else:\n",
    "    req = req.json()  # the response is a JSON\n",
    "    # req is now a dict with keys: name, encoding, url, size ...\n",
    "    # and content. But it is encoded with base64.\n",
    "    \n",
    "    content = base64.b64decode(req['content'])\n",
    "    content = content.decode(\"utf-8\")\n",
    "    print (content)\n",
    "    \n",
    "    \"\"\" import cwlBrowser as c\n",
    "        c.loadWorkflowFromGitHub(owner, repo, path)\"\"\"\n",
    "    \n",
    "            \n"
   ]
  },
  {
   "cell_type": "code",
   "execution_count": null,
   "metadata": {},
   "outputs": [],
   "source": []
  },
  {
   "cell_type": "code",
   "execution_count": null,
   "metadata": {},
   "outputs": [],
   "source": []
  }
 ],
 "metadata": {
  "kernelspec": {
   "display_name": "Python 3",
   "language": "python",
   "name": "python3"
  },
  "language_info": {
   "codemirror_mode": {
    "name": "ipython",
    "version": 3
   },
   "file_extension": ".py",
   "mimetype": "text/x-python",
   "name": "python",
   "nbconvert_exporter": "python",
   "pygments_lexer": "ipython3",
   "version": "3.7.0"
  }
 },
 "nbformat": 4,
 "nbformat_minor": 2
}
