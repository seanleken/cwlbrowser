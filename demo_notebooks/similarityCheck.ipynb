{
 "cells": [
  {
   "cell_type": "markdown",
   "metadata": {},
   "source": [
    "# CWL Browser Similarity check"
   ]
  },
  {
   "cell_type": "markdown",
   "metadata": {},
   "source": [
    "## Identical workflows"
   ]
  },
  {
   "cell_type": "code",
   "execution_count": 5,
   "metadata": {},
   "outputs": [
    {
     "name": "stdout",
     "output_type": "stream",
     "text": [
      "SIMILARITY CHECK BETWEEN lobSTR.cwl AND lobSTR.cwl:\n",
      "---------------------------------------------------------------------------------------\n",
      "OVERALL MATCH: 100.0\n",
      "---------------------------------------------------------------------------------------\n",
      "\n",
      "\n"
     ]
    }
   ],
   "source": [
    "import cwlBrowser as c\n",
    "\n",
    "lobSTR = c.load(\"lobSTR.cwl\")\n",
    "lobSTRcopy = c.load(\"lobSTR.cwl\")\n",
    "c.similarityCheck(lobSTR, lobSTRcopy)\n",
    "\n"
   ]
  },
  {
   "cell_type": "markdown",
   "metadata": {},
   "source": [
    "## Workflows that differ by inputs"
   ]
  },
  {
   "cell_type": "code",
   "execution_count": 1,
   "metadata": {},
   "outputs": [
    {
     "name": "stdout",
     "output_type": "stream",
     "text": [
      "SIMILARITY CHECK BETWEEN lobSTR.cwl AND lobSTR3.cwl:\n",
      "THE FOLLOWING ARE THE INPUTS THAT DIFFER\n",
      "----------------------------------------------------------\n",
      "lobSTR.cwl\n",
      "-----------------------------------------------------------\n",
      "\n",
      "lobSTR3.cwl\n",
      "-----------------------------------------------------------\n",
      "p3\n",
      "\n",
      "\n",
      "---------------------------------------------------------------------------------------\n",
      "OVERALL MATCH: 98.33333333333333\n",
      "---------------------------------------------------------------------------------------\n",
      "\n",
      "\n"
     ]
    }
   ],
   "source": [
    "import cwlBrowser as c\n",
    "lobSTRcopy = c.load(\"lobSTR.cwl\")\n",
    "lobSTR3 = c.load(\"lobSTR3.cwl\")\n",
    "c.similarityCheck(lobSTRcopy, lobSTR3)\n"
   ]
  },
  {
   "cell_type": "markdown",
   "metadata": {},
   "source": [
    "## Workflows that differ by steps"
   ]
  },
  {
   "cell_type": "code",
   "execution_count": 4,
   "metadata": {},
   "outputs": [
    {
     "name": "stdout",
     "output_type": "stream",
     "text": [
      "SIMILARITY CHECK BETWEEN lobSTR.cwl AND lobSTR1.cwl:\n",
      "THE FOLLOWING ARE THE STEPS THAT DIFFER\n",
      "----------------------------------------------------------\n",
      "lobSTR1.cwl\n",
      "-----------------------------------------------------------\n",
      "samsort5\n",
      "\n",
      "lobSTR.cwl\n",
      "-----------------------------------------------------------\n",
      "samsort\n",
      "\n",
      "\n",
      "---------------------------------------------------------------------------------------\n",
      "OVERALL MATCH: 82.5\n",
      "---------------------------------------------------------------------------------------\n",
      "\n",
      "\n"
     ]
    }
   ],
   "source": [
    "import cwlBrowser as c\n",
    "\n",
    "lobSTR = c.load(\"lobSTR.cwl\")\n",
    "lobSTR1 = c.load(\"lobSTR1.cwl\")\n",
    "c.similarityCheck(lobSTR, lobSTR1)"
   ]
  },
  {
   "cell_type": "markdown",
   "metadata": {},
   "source": [
    "## Workflows that are completely different"
   ]
  },
  {
   "cell_type": "code",
   "execution_count": 6,
   "metadata": {},
   "outputs": [
    {
     "name": "stdout",
     "output_type": "stream",
     "text": [
      "SIMILARITY CHECK BETWEEN lobSTR1.cwl AND mixed_library_metrics.cwl:\n",
      "THE FOLLOWING ARE THE STEPS THAT DIFFER\n",
      "----------------------------------------------------------\n",
      "lobSTR1.cwl\n",
      "-----------------------------------------------------------\n",
      "allelotype\n",
      "lobSTR\n",
      "samindex\n",
      "samsort5\n",
      "\n",
      "mixed_library_metrics.cwl\n",
      "-----------------------------------------------------------\n",
      "samtools_stats\n",
      "picard_collectoxogmetrics_to_sqlite\n",
      "picard_collectoxogmetrics\n",
      "samtools_flagstat\n",
      "samtools_idxstats\n",
      "samtools_stats_to_sqlite\n",
      "merge_sqlite\n",
      "picard_collectmultiplemetrics_to_sqlite\n",
      "samtools_flagstat_to_sqlite\n",
      "picard_collectmultiplemetrics\n",
      "samtools_idxstats_to_sqlite\n",
      "picard_collectwgsmetrics_to_sqlite\n",
      "picard_collectwgsmetrics\n",
      "\n",
      "\n",
      "THE FOLLOWING ARE THE INPUTS THAT DIFFER\n",
      "----------------------------------------------------------\n",
      "mixed_library_metrics.cwl\n",
      "-----------------------------------------------------------\n",
      "thread_count\n",
      "db_snp_vcf\n",
      "input_state\n",
      "uuid\n",
      "fasta\n",
      "bam\n",
      "\n",
      "lobSTR1.cwl\n",
      "-----------------------------------------------------------\n",
      "reference\n",
      "p1\n",
      "noise_model\n",
      "rg-sample\n",
      "strinfo\n",
      "rg-lib\n",
      "p2\n",
      "output_prefix\n",
      "\n",
      "\n",
      "THE FOLLOWING ARE THE OUTPUTS THAT DIFFER\n",
      "----------------------------------------------------------\n",
      "mixed_library_metrics.cwl\n",
      "-----------------------------------------------------------\n",
      "merge_sqlite_destination_sqlite\n",
      "\n",
      "lobSTR1.cwl\n",
      "-----------------------------------------------------------\n",
      "vcf_stats\n",
      "vcf\n",
      "bam\n",
      "bam_stats\n",
      "\n",
      "\n",
      "---------------------------------------------------------------------------------------\n",
      "OVERALL MATCH: 0.0\n",
      "---------------------------------------------------------------------------------------\n",
      "\n",
      "\n"
     ]
    }
   ],
   "source": [
    "import cwlBrowser as c\n",
    "\n",
    "lobSTR1 = c.load(\"lobSTR1.cwl\")\n",
    "metrics = c.load(\"mixed_library_metrics.cwl\")\n",
    "\n",
    "c.similarityCheck(lobSTR1, metrics)"
   ]
  },
  {
   "cell_type": "code",
   "execution_count": null,
   "metadata": {},
   "outputs": [],
   "source": []
  }
 ],
 "metadata": {
  "kernelspec": {
   "display_name": "Python 3",
   "language": "python",
   "name": "python3"
  },
  "language_info": {
   "codemirror_mode": {
    "name": "ipython",
    "version": 3
   },
   "file_extension": ".py",
   "mimetype": "text/x-python",
   "name": "python",
   "nbconvert_exporter": "python",
   "pygments_lexer": "ipython3",
   "version": "3.7.0"
  }
 },
 "nbformat": 4,
 "nbformat_minor": 2
}
