{
 "cells": [
  {
   "cell_type": "markdown",
   "metadata": {},
   "source": [
    "# Testing loading and instantiation of workflows"
   ]
  },
  {
   "cell_type": "markdown",
   "metadata": {},
   "source": [
    "Sample workflow Links:\n",
    "https://github.com/EBI-Metagenomics/ebi-metagenomics-cwl/blob/master/workflows/rna-selector.cwl\n",
    "https://github.com/alexbarrera/GGR-cwl/blob/master/v1.0/ATAC-seq_pipeline/03-map-se-blacklist-removal.cwl\n",
    "https://github.com/hamid58b/cancer-genomics-workflow/blob/master/varscan/varscan.cwl\n",
    "https://github.com/seanleken/workflowtest/blob/master/workflows/arithmeticfunction1.cwl\n",
    "https://github.com/alexbarrera/GGR-cwl/blob/master/v1.0/ATAC-seq_pipeline/03-map-se-blacklist-removal.cwl"
   ]
  },
  {
   "cell_type": "markdown",
   "metadata": {},
   "source": [
    "##  Input instantiation and printing"
   ]
  },
  {
   "cell_type": "code",
   "execution_count": 3,
   "metadata": {},
   "outputs": [
    {
     "name": "stdout",
     "output_type": "stream",
     "text": [
      "Input: reads | Type: File\n",
      "Input: run_id | Type: not known\n",
      "Input: 16S_model | Type: File\n",
      "Input: 5S_model | Type: File\n",
      "Input: 23S_model | Type: File\n",
      "Input: tRNA_model | Type: File\n"
     ]
    }
   ],
   "source": [
    "import cwlBrowser as c\n",
    "\n",
    "arithmeticlink = \"https://github.com/EBI-Metagenomics/ebi-metagenomics-cwl/blob/master/workflows/rna-selector.cwl\"\n",
    "rrna_selector = c.load(arithmeticlink, link=True)\n",
    "for input_ in rrna_selector.inputs:\n",
    "    print (input_)"
   ]
  },
  {
   "cell_type": "markdown",
   "metadata": {},
   "source": [
    "##  Output printing"
   ]
  },
  {
   "cell_type": "code",
   "execution_count": 2,
   "metadata": {
    "scrolled": true
   },
   "outputs": [
    {
     "name": "stdout",
     "output_type": "stream",
     "text": [
      "Output: output_pbc_files | Type: File[]\n",
      "Output: output_read_count_mapped | Type: File[]\n",
      "Output: output_data_sorted_dedup_bam_files | Type: File[]\n",
      "Output: output_data_sorted_dups_marked_bam_files | Type: File[]\n",
      "Output: output_picard_mark_duplicates_files | Type: File[]\n",
      "Output: output_read_count_mapped_filtered | Type: File[]\n",
      "Output: output_percentage_uniq_reads | Type: File[]\n",
      "Output: output_bowtie_log | Type: File[]\n",
      "Output: output_preseq_c_curve_files | Type: File[]\n",
      "Output: output_percent_mitochondrial_reads | Type: File[]\n"
     ]
    }
   ],
   "source": [
    "import cwlBrowser as c\n",
    "\n",
    "longlink1 = \"https://github.com/alexbarrera/GGR-cwl/blob/master/v1.0/ATAC-seq_pipeline/03-map-se-blacklist-removal.cwl\"\n",
    "blacklist = c.load(longlink1, link=True)\n",
    "for output in blacklist.outputs:\n",
    "    print (output)"
   ]
  },
  {
   "cell_type": "markdown",
   "metadata": {},
   "source": [
    "## Step printing"
   ]
  },
  {
   "cell_type": "code",
   "execution_count": 4,
   "metadata": {},
   "outputs": [
    {
     "name": "stdout",
     "output_type": "stream",
     "text": [
      "Step: add | Run: add1.cwl\n",
      "Step: subtract | Run: subtract1.cwl\n"
     ]
    }
   ],
   "source": [
    "import cwlBrowser as c\n",
    "\n",
    "longlink1 = \"https://github.com/seanleken/workflowtest/blob/master/workflows/arithmeticfunction1.cwl\"\n",
    "arithmetic = c.load(longlink1, link=True)\n",
    "for step in arithmetic.steps:\n",
    "    print (step)"
   ]
  },
  {
   "cell_type": "markdown",
   "metadata": {},
   "source": [
    "## workflow graph"
   ]
  },
  {
   "cell_type": "code",
   "execution_count": 6,
   "metadata": {},
   "outputs": [
    {
     "name": "stdout",
     "output_type": "stream",
     "text": [
      "{'input_fastq_files': ['extract_basename_1', 'bowtie-se'], 'ENCODE_blacklist_bedfile': ['remove_encode_blacklist'], 'genome_sizes_file': ['execute_pcr_bottleneck_coef'], 'genome_ref_first_index_file': ['bowtie-se'], 'picard_jar_path': ['mark_duplicates'], 'picard_java_opts': ['mark_duplicates'], 'nthreads': ['bowtie-se', 'sam2bam', 'sort_bams', 'filtered2sorted', 'sort_masked_bams', 'sort_dups_marked_bams', 'sort_dedup_bams'], 'extract_basename_1': ['extract_basename_2'], 'extract_basename_2': ['bowtie-se', 'filter-unmapped', 'preseq-c-curve', 'execute_pcr_bottleneck_coef', 'remove_encode_blacklist'], 'bowtie-se': ['sam2bam', 'mapped_reads_count', 'output_bowtie_log'], 'sam2bam': ['sort_bams'], 'sort_bams': ['index_bams', 'filter-unmapped'], 'index_bams': ['bam_idxstats'], 'filter-unmapped': ['filtered2sorted'], 'filtered2sorted': ['index_filtered_bam', 'preseq-c-curve', 'execute_pcr_bottleneck_coef', 'remove_encode_blacklist'], 'index_filtered_bam': [], 'preseq-c-curve': ['percent_uniq_reads', 'output_preseq_c_curve_files'], 'execute_pcr_bottleneck_coef': ['output_pbc_files'], 'remove_encode_blacklist': ['masked_file_basename', 'sort_masked_bams'], 'masked_file_basename': ['mark_duplicates'], 'sort_masked_bams': ['index_masked_bams'], 'index_masked_bams': ['mark_duplicates'], 'mark_duplicates': ['sort_dups_marked_bams', 'output_picard_mark_duplicates_files'], 'sort_dups_marked_bams': ['index_dups_marked_bams'], 'index_dups_marked_bams': ['remove_duplicates', 'output_data_sorted_dups_marked_bam_files'], 'remove_duplicates': ['sort_dedup_bams'], 'sort_dedup_bams': ['index_dedup_bams', 'mapped_filtered_reads_count'], 'index_dedup_bams': ['output_data_sorted_dedup_bam_files'], 'mapped_reads_count': ['output_read_count_mapped'], 'percent_uniq_reads': ['output_percentage_uniq_reads'], 'mapped_filtered_reads_count': ['output_read_count_mapped_filtered'], 'bam_idxstats': ['percent_mitochondrial_reads'], 'percent_mitochondrial_reads': ['output_percent_mitochondrial_reads'], 'output_pbc_files': [], 'output_read_count_mapped': [], 'output_data_sorted_dedup_bam_files': [], 'output_data_sorted_dups_marked_bam_files': [], 'output_picard_mark_duplicates_files': [], 'output_read_count_mapped_filtered': [], 'output_percentage_uniq_reads': [], 'output_bowtie_log': [], 'output_preseq_c_curve_files': [], 'output_percent_mitochondrial_reads': []}\n"
     ]
    }
   ],
   "source": [
    "import cwlBrowser as c\n",
    "\n",
    "blacklist_link = \"https://github.com/alexbarrera/GGR-cwl/blob/master/v1.0/ATAC-seq_pipeline/03-map-se-blacklist-removal.cwl\"\n",
    "blacklist = c.load(blacklist_link, link=True)\n",
    "print(blacklist.graph)"
   ]
  },
  {
   "cell_type": "code",
   "execution_count": 7,
   "metadata": {},
   "outputs": [
    {
     "name": "stdout",
     "output_type": "stream",
     "text": [
      "{'bam': ['picard_collectmultiplemetrics', 'picard_collectmultiplemetrics_to_sqlite', 'picard_collectoxogmetrics', 'picard_collectoxogmetrics_to_sqlite', 'picard_collectwgsmetrics', 'picard_collectwgsmetrics_to_sqlite', 'samtools_flagstat', 'samtools_flagstat_to_sqlite', 'samtools_idxstats', 'samtools_idxstats_to_sqlite', 'samtools_stats', 'samtools_stats_to_sqlite'], 'db_snp_vcf': ['picard_collectmultiplemetrics', 'picard_collectmultiplemetrics_to_sqlite', 'picard_collectoxogmetrics', 'picard_collectoxogmetrics_to_sqlite'], 'fasta': ['picard_collectmultiplemetrics', 'picard_collectmultiplemetrics_to_sqlite', 'picard_collectoxogmetrics', 'picard_collectoxogmetrics_to_sqlite', 'picard_collectwgsmetrics', 'picard_collectwgsmetrics_to_sqlite'], 'input_state': ['picard_collectmultiplemetrics_to_sqlite', 'picard_collectoxogmetrics_to_sqlite', 'picard_collectwgsmetrics_to_sqlite', 'samtools_flagstat_to_sqlite', 'samtools_idxstats_to_sqlite', 'samtools_stats_to_sqlite'], 'thread_count': [], 'uuid': ['picard_collectmultiplemetrics_to_sqlite', 'picard_collectoxogmetrics_to_sqlite', 'picard_collectwgsmetrics_to_sqlite', 'samtools_flagstat_to_sqlite', 'samtools_idxstats_to_sqlite', 'samtools_stats_to_sqlite', 'merge_sqlite'], 'picard_collectmultiplemetrics': ['picard_collectmultiplemetrics_to_sqlite', 'picard_collectmultiplemetrics_to_sqlite', 'picard_collectmultiplemetrics_to_sqlite', 'picard_collectmultiplemetrics_to_sqlite', 'picard_collectmultiplemetrics_to_sqlite', 'picard_collectmultiplemetrics_to_sqlite', 'picard_collectmultiplemetrics_to_sqlite', 'picard_collectmultiplemetrics_to_sqlite', 'picard_collectmultiplemetrics_to_sqlite', 'picard_collectmultiplemetrics_to_sqlite', 'picard_collectmultiplemetrics_to_sqlite', 'picard_collectmultiplemetrics_to_sqlite'], 'picard_collectmultiplemetrics_to_sqlite': ['merge_sqlite'], 'picard_collectoxogmetrics': ['picard_collectoxogmetrics_to_sqlite'], 'picard_collectoxogmetrics_to_sqlite': ['merge_sqlite'], 'picard_collectwgsmetrics': ['picard_collectwgsmetrics_to_sqlite'], 'picard_collectwgsmetrics_to_sqlite': ['merge_sqlite'], 'samtools_flagstat': ['samtools_flagstat_to_sqlite'], 'samtools_flagstat_to_sqlite': ['merge_sqlite'], 'samtools_idxstats': ['samtools_idxstats_to_sqlite'], 'samtools_idxstats_to_sqlite': ['merge_sqlite'], 'samtools_stats': ['samtools_stats_to_sqlite'], 'samtools_stats_to_sqlite': ['merge_sqlite'], 'merge_sqlite': ['merge_sqlite_destination_sqlite'], 'merge_sqlite_destination_sqlite': []}\n"
     ]
    }
   ],
   "source": [
    "import cwlBrowser as c\n",
    "metricsFileName = \"mixed_library_metrics.cwl\"\n",
    "metrics = c.load(metricsFileName)\n",
    "print(metrics.graph)"
   ]
  },
  {
   "cell_type": "code",
   "execution_count": 1,
   "metadata": {},
   "outputs": [
    {
     "name": "stdout",
     "output_type": "stream",
     "text": [
      "{'operand1': ['add'], 'operand2': ['add'], 'operand3': ['subtract'], 'add': ['subtract'], 'subtract': ['result'], 'result': []}\n"
     ]
    }
   ],
   "source": [
    "import cwlBrowser as c\n",
    "\n",
    "link = \"https://github.com/seanleken/workflowtest/blob/master/workflows/arithmeticfunction1.cwl\"\n",
    "arithmetic = c.load(link, link=True)\n",
    "print(arithmetic.graph)"
   ]
  }
 ],
 "metadata": {
  "kernelspec": {
   "display_name": "Python 3",
   "language": "python",
   "name": "python3"
  },
  "language_info": {
   "codemirror_mode": {
    "name": "ipython",
    "version": 3
   },
   "file_extension": ".py",
   "mimetype": "text/x-python",
   "name": "python",
   "nbconvert_exporter": "python",
   "pygments_lexer": "ipython3",
   "version": "3.7.0"
  }
 },
 "nbformat": 4,
 "nbformat_minor": 2
}
