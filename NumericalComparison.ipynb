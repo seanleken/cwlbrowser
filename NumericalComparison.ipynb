{
 "cells": [
  {
   "cell_type": "markdown",
   "metadata": {},
   "source": [
    "# Numerical comparison of workflows"
   ]
  },
  {
   "cell_type": "markdown",
   "metadata": {},
   "source": [
    "## Compare number of inputs"
   ]
  },
  {
   "cell_type": "code",
   "execution_count": 1,
   "metadata": {},
   "outputs": [
    {
     "name": "stdout",
     "output_type": "stream",
     "text": [
      "-------------------------------------\n",
      "--------- inputs comparison------------\n",
      "-------------------------------------\n",
      "v1.0/ATAC-seq_pipeline/03-map-se-blacklist-removal.cwl| no. of inputs: 7\n",
      "varscan/varscan.cwl| no. of inputs: 4\n",
      "Difference: 3\n",
      "-------------------------------------\n",
      "\n",
      "\n"
     ]
    }
   ],
   "source": [
    "import cwlBrowser as c\n",
    "\n",
    "another = c.loadWithLink(\"https://github.com/alexbarrera/GGR-cwl/blob/master/v1.0/ATAC-seq_pipeline/03-map-se-blacklist-removal.cwl\")\n",
    "genomics = c.loadWithLink(\"https://github.com/hamid58b/cancer-genomics-workflow/blob/master/varscan/varscan.cwl\")\n",
    "\n",
    "c.compareNoOfInputs(another, genomics)\n"
   ]
  },
  {
   "cell_type": "markdown",
   "metadata": {},
   "source": [
    "## Compare number of outputs"
   ]
  },
  {
   "cell_type": "code",
   "execution_count": 2,
   "metadata": {},
   "outputs": [
    {
     "name": "stdout",
     "output_type": "stream",
     "text": [
      "-------------------------------------\n",
      "--------- outputs comparison------------\n",
      "-------------------------------------\n",
      "workflows/arithmeticfunction1.cwl| no. of outputs: 1\n",
      "lobSTR.cwl| no. of outputs: 4\n",
      "Difference: 3\n",
      "-------------------------------------\n",
      "\n",
      "\n"
     ]
    }
   ],
   "source": [
    "import cwlBrowser as c\n",
    "lobSTR1 = c.load(\"lobSTR.cwl\")\n",
    "mine = c.loadWithLink(\"https://github.com/seanleken/workflowtest/blob/master/workflows/arithmeticfunction1.cwl\")\n",
    "\n",
    "c.compareNoOfOutputs(mine, lobSTR1)\n"
   ]
  },
  {
   "cell_type": "markdown",
   "metadata": {},
   "source": [
    "## Compare number of steps"
   ]
  },
  {
   "cell_type": "code",
   "execution_count": 3,
   "metadata": {},
   "outputs": [
    {
     "name": "stdout",
     "output_type": "stream",
     "text": [
      "-------------------------------------\n",
      "--------- steps comparison------------\n",
      "-------------------------------------\n",
      "mixed_library_metrics.cwl| no. of steps: 13\n",
      "v1.0/ATAC-seq_pipeline/03-map-se-blacklist-removal.cwl| no. of steps: 26\n",
      "Difference: 13\n",
      "-------------------------------------\n",
      "\n",
      "\n"
     ]
    }
   ],
   "source": [
    "import cwlBrowser as c\n",
    "metrics = c.load(\"mixed_library_metrics.cwl\")\n",
    "another = c.loadWithLink(\"https://github.com/alexbarrera/GGR-cwl/blob/master/v1.0/ATAC-seq_pipeline/03-map-se-blacklist-removal.cwl\")\n",
    "\n",
    "c.compareNoOfSteps(metrics, another)"
   ]
  }
 ],
 "metadata": {
  "kernelspec": {
   "display_name": "Python 3",
   "language": "python",
   "name": "python3"
  },
  "language_info": {
   "codemirror_mode": {
    "name": "ipython",
    "version": 3
   },
   "file_extension": ".py",
   "mimetype": "text/x-python",
   "name": "python",
   "nbconvert_exporter": "python",
   "pygments_lexer": "ipython3",
   "version": "3.7.0"
  }
 },
 "nbformat": 4,
 "nbformat_minor": 2
}
